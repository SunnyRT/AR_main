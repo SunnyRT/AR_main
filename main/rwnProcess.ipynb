{
 "cells": [
  {
   "cell_type": "code",
   "execution_count": 2,
   "metadata": {},
   "outputs": [
    {
     "name": "stdout",
     "output_type": "stream",
     "text": [
      "Jupyter environment detected. Enabling Open3D WebVisualizer.\n",
      "[Open3D INFO] WebRTC GUI backend enabled.\n",
      "[Open3D INFO] WebRTCWindowSystem: HTTP handshake server disabled.\n"
     ]
    }
   ],
   "source": [
    "import open3d as o3d\n",
    "import numpy as np"
   ]
  },
  {
   "cell_type": "code",
   "execution_count": 3,
   "metadata": {},
   "outputs": [
    {
     "name": "stdout",
     "output_type": "stream",
     "text": [
      "[40.60311518 44.69366868 61.70447312]\n"
     ]
    }
   ],
   "source": [
    "ply_path = \"D:\\sunny\\Codes\\IIB_project\\data\\michaelmas\\ear.ply\"\n",
    "mesh = o3d.io.read_triangle_mesh(ply_path)\n",
    "\n",
    "vertex_positions = np.asarray(mesh.vertices)\n",
    "centroid = np.mean(vertex_positions, axis=0)\n",
    "# vertex_positions -= centroid\n",
    "print(centroid)\n"
   ]
  },
  {
   "cell_type": "code",
   "execution_count": 4,
   "metadata": {},
   "outputs": [],
   "source": [
    "\n",
    "input_txt_path= \"D:\\\\sunny\\\\Codes\\\\IIB_project\\\\data\\\\lent\\\\rwnContour.txt\"\n",
    "output_txt_path= \"D:\\\\sunny\\\\Codes\\\\IIB_project\\\\data\\\\lent\\\\rwnContour_center.txt\"\n",
    "offset = centroid\n",
    "\n",
    "with open(input_txt_path, 'r') as fin, open(output_txt_path, 'w') as fout:\n",
    "    for line in fin:\n",
    "        line_stripped = line.strip()\n",
    "\n",
    "        # Check if this line starts with 'comment'\n",
    "        if not line_stripped.startswith(\"comment\"):\n",
    "            # If it's not a \"comment\" line, just copy it over\n",
    "            fout.write(line)\n",
    "            continue\n",
    "\n",
    "        # Split into tokens\n",
    "        parts = line_stripped.split()\n",
    "\n",
    "        # If the line has exactly 7 tokens, e.g.:\n",
    "        # comment X Y Z Nx Ny Nz\n",
    "        # then we parse them. Otherwise, we just preserve the line as-is.\n",
    "        # (lines like 'comment CLOSED_LANDCURVE \"round window\" 27' have more/different tokens)\n",
    "        if len(parts) == 7:\n",
    "            # parts[0] == 'comment'\n",
    "            try:\n",
    "                x, y, z = map(float, parts[1:4])\n",
    "                nx, ny, nz = map(float, parts[4:7])\n",
    "            except ValueError:\n",
    "                # If we can't parse floats, just copy the line\n",
    "                fout.write(line)\n",
    "                continue\n",
    "\n",
    "            # Subtract offset from position\n",
    "            x_new = x - offset[0]\n",
    "            y_new = y - offset[1]\n",
    "            z_new = z - offset[2]\n",
    "\n",
    "            # Keep normal as is\n",
    "            nx_new = nx\n",
    "            ny_new = ny\n",
    "            nz_new = nz\n",
    "\n",
    "            # Rebuild the line in the same format\n",
    "            new_line = f\"comment {x_new:.5f} {y_new:.5f} {z_new:.5f} {nx_new:.5f} {ny_new:.5f} {nz_new:.5f}\\n\"\n",
    "            fout.write(new_line)\n",
    "\n",
    "        else:\n",
    "            # Not a numeric coordinate+normal line; copy it directly\n",
    "            fout.write(line)"
   ]
  },
  {
   "cell_type": "code",
   "execution_count": 5,
   "metadata": {},
   "outputs": [],
   "source": [
    "curve_points = []\n",
    "\n",
    "with open(input_txt_path, \"r\") as f:\n",
    "    for line in f:\n",
    "        line_stripped = line.strip()\n",
    "        if not line_stripped.startswith(\"comment\"):\n",
    "            # e.g. skip lines that don't start with comment\n",
    "            continue\n",
    "        \n",
    "        parts = line_stripped.split()\n",
    "        # If the line has 7 tokens (comment + 6 floats),\n",
    "        # then parse them as x,y,z,nx,ny,nz\n",
    "        if len(parts) == 7:\n",
    "            try:\n",
    "                x, y, z = map(float, parts[1:4])\n",
    "                # nx, ny, nz = map(float, parts[4:7])  # we won't need these for the line geometry\n",
    "                curve_points.append([x, y, z])\n",
    "            except ValueError:\n",
    "                # The line might be 'comment CLOSED_LANDCURVE \"...\" N', just skip\n",
    "                continue\n",
    "\n",
    "curve_points = np.array(curve_points)\n",
    "\n",
    "# Connect the last point to the first point to close the curve\n",
    "N = len(curve_points)\n",
    "lines = [[i, i + 1] for i in range(N - 1)]\n",
    "lines.append([N - 1, 0])  # close the curve\n",
    "\n",
    "# Create a LineSet object\n",
    "line_set = o3d.geometry.LineSet()\n",
    "line_set.points = o3d.utility.Vector3dVector(curve_points)\n",
    "line_set.lines = o3d.utility.Vector2iVector(lines)\n",
    "\n",
    "# Color all lines red (just an example)\n",
    "colors = [[1.0, 0.0, 0.0] for _ in lines]\n",
    "line_set.colors = o3d.utility.Vector3dVector(colors)\n"
   ]
  },
  {
   "cell_type": "code",
   "execution_count": 6,
   "metadata": {},
   "outputs": [],
   "source": [
    "# Optionally compute vertex normals if they are not already provided\n",
    "mesh.compute_vertex_normals()\n",
    "\n",
    "# Visualize the mesh in an interactive Open3D window\n",
    "o3d.visualization.draw_geometries([mesh, line_set],\n",
    "                                  window_name=\"Open3D Mesh Viewer\",\n",
    "                                  width=800,     # optional window width\n",
    "                                  height=600)    # optional window height"
   ]
  },
  {
   "cell_type": "code",
   "execution_count": 10,
   "metadata": {},
   "outputs": [],
   "source": [
    "opticCap_path = \"D:\\\\sunny\\\\Codes\\IIB_project\\\\data\\\\lent\\\\OssiclesOnly.ply\"\n",
    "opticCapMesh = o3d.io.read_triangle_mesh(opticCap_path)\n",
    "opticCapMesh.compute_vertex_normals()\n",
    "# change all vertex colors into red\n",
    "opticCapMesh.paint_uniform_color([0, 0, 1])\n",
    "mesh.paint_uniform_color([0, 1, 0])\n",
    "\n",
    "\n",
    "o3d.visualization.draw_geometries([mesh, opticCapMesh, line_set],\n",
    "                                  window_name=\"Open3D Mesh Viewer\",\n",
    "                                  width=800,     # optional window width\n",
    "                                  height=600)    # optional window height"
   ]
  },
  {
   "cell_type": "code",
   "execution_count": null,
   "metadata": {},
   "outputs": [],
   "source": []
  }
 ],
 "metadata": {
  "kernelspec": {
   "display_name": "open3d_env",
   "language": "python",
   "name": "python3"
  },
  "language_info": {
   "codemirror_mode": {
    "name": "ipython",
    "version": 3
   },
   "file_extension": ".py",
   "mimetype": "text/x-python",
   "name": "python",
   "nbconvert_exporter": "python",
   "pygments_lexer": "ipython3",
   "version": "3.9.19"
  }
 },
 "nbformat": 4,
 "nbformat_minor": 2
}
